{
 "cells": [
  {
   "cell_type": "code",
   "execution_count": 1,
   "metadata": {
    "collapsed": false
   },
   "outputs": [
    {
     "data": {},
     "execution_count": 1,
     "metadata": {},
     "output_type": "execute_result"
    }
   ],
   "source": [
    "phi = 0.2;\n",
    "L = 10000; %ft\n",
    "A = 200000; %ft^2\n",
    "mu = 1; %cp\n",
    "Bw = 1; %rb/stb\n",
    "ct = 1e-6; %1/psi\n",
    "\n",
    "deltaX = [2000 3000 1500 3500];\n",
    "ki = [10 100 50 20];\n",
    "\n",
    "Pinitial = 1000;\n",
    "Pb = 2000;"
   ]
  },
  {
   "cell_type": "code",
   "execution_count": 3,
   "metadata": {
    "collapsed": false
   },
   "outputs": [
    {
     "data": {
      "text/plain": [
       "kinterblock =\n",
       "\n",
       "   21.7391   75.0000   24.3902"
      ]
     },
     "execution_count": 3,
     "metadata": {},
     "output_type": "execute_result"
    }
   ],
   "source": [
    "kinterblock = (deltaX(1:end-1) + deltaX(2:end)) ./ ...\n",
    "              ((deltaX(1:end-1) ./ ki(1:end-1)) + (deltaX(2:end) ./ ki(2:end)))"
   ]
  },
  {
   "cell_type": "code",
   "execution_count": 4,
   "metadata": {
    "collapsed": false
   },
   "outputs": [
    {
     "data": {
      "text/plain": [
       "Tinterblock =\n",
       "\n",
       "   1.0e+03 *\n",
       "\n",
       "    1.7391    6.6667    1.9512"
      ]
     },
     "execution_count": 4,
     "metadata": {},
     "output_type": "execute_result"
    }
   ],
   "source": [
    "Tinterblock = 2 * kinterblock * A ./ (mu * Bw * (deltaX(1:end-1) + deltaX(2:end)))"
   ]
  },
  {
   "cell_type": "code",
   "execution_count": 6,
   "metadata": {
    "collapsed": false
   },
   "outputs": [
    {
     "data": {
      "text/plain": [
       "T1 =\n",
       "\n",
       "        1000"
      ]
     },
     "execution_count": 6,
     "metadata": {},
     "output_type": "execute_result"
    }
   ],
   "source": [
    "T1 = ki(1) * A / (mu * Bw * deltaX(1))"
   ]
  },
  {
   "cell_type": "code",
   "execution_count": 9,
   "metadata": {
    "collapsed": false
   },
   "outputs": [
    {
     "data": {
      "text/plain": [
       "T =\n",
       "\n",
       "   23.6687  -11.0087         0         0\n",
       "  -11.0087   53.2087  -42.2000         0\n",
       "         0  -42.2000   54.5512  -12.3512\n",
       "         0         0  -12.3512   12.3512"
      ]
     },
     "execution_count": 9,
     "metadata": {},
     "output_type": "execute_result"
    }
   ],
   "source": [
    "T = (diag([Tinterblock(1) + 2 * T1, Tinterblock(1:end-1) + Tinterblock(2:end), Tinterblock(end)]) + ...\n",
    "    diag(-Tinterblock, 1) + diag(-Tinterblock, -1)) * 6.33e-3"
   ]
  },
  {
   "cell_type": "code",
   "execution_count": 10,
   "metadata": {
    "collapsed": false
   },
   "outputs": [
    {
     "data": {
      "text/plain": [
       "B =\n",
       "\n",
       "    80     0     0     0\n",
       "     0   120     0     0\n",
       "     0     0    60     0\n",
       "     0     0     0   140"
      ]
     },
     "execution_count": 10,
     "metadata": {},
     "output_type": "execute_result"
    }
   ],
   "source": [
    "B = diag(A * deltaX * phi * ct / Bw)"
   ]
  },
  {
   "cell_type": "code",
   "execution_count": 11,
   "metadata": {
    "collapsed": false
   },
   "outputs": [
    {
     "data": {
      "text/plain": [
       "P0 =\n",
       "\n",
       "        1000\n",
       "        1000\n",
       "        1000\n",
       "        1000"
      ]
     },
     "execution_count": 11,
     "metadata": {},
     "output_type": "execute_result"
    }
   ],
   "source": [
    "P0 = ones(4,1) * Pinitial"
   ]
  },
  {
   "cell_type": "code",
   "execution_count": 13,
   "metadata": {
    "collapsed": false
   },
   "outputs": [
    {
     "data": {
      "text/plain": [
       "Q =\n",
       "\n",
       "       25320\n",
       "           0\n",
       "           0\n",
       "           0"
      ]
     },
     "execution_count": 13,
     "metadata": {},
     "output_type": "execute_result"
    }
   ],
   "source": [
    "Q = zeros(4,1);\n",
    "Q(1) = 2 * Pb * T1 * 6.33e-3"
   ]
  },
  {
   "cell_type": "code",
   "execution_count": 22,
   "metadata": {
    "collapsed": false
   },
   "outputs": [
    {
     "data": {
      "text/plain": [
       "Pn =\n",
       "\n",
       "   1.0e+03 *\n",
       "\n",
       "    1.1230\n",
       "    1.0086\n",
       "    1.0032\n",
       "    1.0003\n",
       "\n",
       "\n",
       "Pn =\n",
       "\n",
       "   1.0e+03 *\n",
       "\n",
       "    1.2194\n",
       "    1.0223\n",
       "    1.0100\n",
       "    1.0011\n",
       "\n",
       "\n",
       "Pn =\n",
       "\n",
       "   1.0e+03 *\n",
       "\n",
       "    1.2956\n",
       "    1.0391\n",
       "    1.0199\n",
       "    1.0026"
      ]
     },
     "execution_count": 22,
     "metadata": {},
     "output_type": "execute_result"
    }
   ],
   "source": [
    "deltaT=1; %day\n",
    "Pn = P0;\n",
    "\n",
    "for i=1:3\n",
    "\n",
    "   A = T + B / deltaT;\n",
    "   b = (B / deltaT) * Pn + Q;\n",
    "   \n",
    "   Pnp1 = A \\ b;\n",
    "   \n",
    "   Pn = Pnp1\n",
    "   \n",
    "end\n",
    "   "
   ]
  },
  {
   "cell_type": "code",
   "execution_count": 25,
   "metadata": {
    "collapsed": false
   },
   "outputs": [
    {
     "data": {
      "text/plain": [
       "Pnp1 =\n",
       "\n",
       "   1.0e+03 *\n",
       "\n",
       "    2.0000\n",
       "    2.0000\n",
       "    2.0000\n",
       "    2.0000"
      ]
     },
     "execution_count": 25,
     "metadata": {},
     "output_type": "execute_result"
    }
   ],
   "source": [
    "deltaT=1; %day\n",
    "Pn = P0;\n",
    "\n",
    "for i=1:700\n",
    "\n",
    "   A = T + B / deltaT;\n",
    "   b = (B / deltaT) * Pn + Q;\n",
    "   \n",
    "   Pnp1 = A \\ b;\n",
    "   \n",
    "   Pn = Pnp1;\n",
    "   \n",
    "end\n",
    "Pnp1"
   ]
  },
  {
   "cell_type": "code",
   "execution_count": null,
   "metadata": {
    "collapsed": true
   },
   "outputs": [],
   "source": []
  }
 ],
 "metadata": {
  "kernelspec": {
   "display_name": "Matlab",
   "language": "matlab",
   "name": "matlab_kernel"
  },
  "language_info": {
   "file_extension": ".m",
   "help_links": [
    {
     "text": "MetaKernel Magics",
     "url": "https://github.com/calysto/metakernel/blob/master/metakernel/magics/README.md"
    }
   ],
   "mimetype": "text/x-matlab",
   "name": "octave"
  }
 },
 "nbformat": 4,
 "nbformat_minor": 0
}
